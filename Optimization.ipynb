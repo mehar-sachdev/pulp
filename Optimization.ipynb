{
  "nbformat": 4,
  "nbformat_minor": 0,
  "metadata": {
    "colab": {
      "provenance": [],
      "authorship_tag": "ABX9TyO6lh1ra+4ryn1EVCorLiNg",
      "include_colab_link": true
    },
    "kernelspec": {
      "name": "python3",
      "display_name": "Python 3"
    },
    "language_info": {
      "name": "python"
    }
  },
  "cells": [
    {
      "cell_type": "markdown",
      "metadata": {
        "id": "view-in-github",
        "colab_type": "text"
      },
      "source": [
        "<a href=\"https://colab.research.google.com/github/mehar-sachdev/pulp/blob/main/Optimization.ipynb\" target=\"_parent\"><img src=\"https://colab.research.google.com/assets/colab-badge.svg\" alt=\"Open In Colab\"/></a>"
      ]
    },
    {
      "cell_type": "code",
      "execution_count": 4,
      "metadata": {
        "colab": {
          "base_uri": "https://localhost:8080/"
        },
        "id": "BaK69f6HJAq-",
        "outputId": "9f412daf-f88f-4781-a56d-d4794ad305b1"
      },
      "outputs": [
        {
          "output_type": "stream",
          "name": "stdout",
          "text": [
            "Cloning into 'pulp'...\n",
            "remote: Enumerating objects: 3, done.\u001b[K\n",
            "remote: Counting objects: 100% (3/3), done.\u001b[K\n",
            "remote: Compressing objects: 100% (2/2), done.\u001b[K\n",
            "remote: Total 3 (delta 0), reused 0 (delta 0), pack-reused 0\u001b[K\n",
            "Receiving objects: 100% (3/3), done.\n"
          ]
        }
      ],
      "source": [
        "\n",
        "!git clone https://github.com/mehar-sachdev/pulp.git\n",
        "\n"
      ]
    },
    {
      "cell_type": "code",
      "source": [
        "!pip as install pulp\n",
        "from pulp import *\n",
        "\n",
        "# defining the model\n",
        "model=LpProblem('Refrigeration',LpMinimize)\n",
        "\n",
        "# defining the variables\n",
        "add_A = pulp.LpVariable('Add_A', lowBound=0, upBound=6, cat='Continuous')\n",
        "add_B = pulp.LpVariable('Add_B', lowBound=0, upBound=4.5, cat='Continuous')\n",
        "add_C = pulp.LpVariable('Add_C', lowBound=0, upBound=3, cat='Continuous')\n",
        "add_D = pulp.LpVariable('Add_D', lowBound=0, upBound=1.5, cat='Continuous')\n",
        "\n",
        "new_A = pulp.LpVariable('New_A', lowBound=0, cat='Continuous')\n",
        "new_B = pulp.LpVariable('New_B', lowBound=0, cat='Continuous')\n",
        "new_C = pulp.LpVariable('New_C', lowBound=0, cat='Continuous')\n",
        "new_D = pulp.LpVariable('New_D', lowBound=0, cat='Continuous')\n",
        "\n",
        "# Costs for adding elements\n",
        "cost_add_A = 10\n",
        "cost_add_B = 12\n",
        "cost_add_C = 8\n",
        "cost_add_D = 15\n",
        "\n",
        "# Costs for extracting elements\n",
        "cost_extract_A = 5\n",
        "cost_extract_B = 6\n",
        "cost_extract_C = 4\n",
        "cost_extract_D = 7\n",
        "\n",
        "# Objective Function: Minimize the total cost\n",
        "model += (cost_add_A * add_A + cost_add_B * add_B + cost_add_C * add_C + cost_add_D * add_D +\n",
        "          cost_extract_A * new_A + cost_extract_B * new_B + cost_extract_C * new_C + cost_extract_D * new_D), \"Total Cost\"\n",
        "\n",
        "# Constraints\n",
        "# Maximum 15% addition rule\n",
        "model += add_A <= 6, \"Max_A\"\n",
        "model += add_B <= 4.5, \"Max_B\"\n",
        "model += add_C <= 3, \"Max_C\"\n",
        "model += add_D <= 1.5, \"Max_D\"\n",
        "\n",
        "# Subset composition for new refrigerant blends (ratios must be consistent)\n",
        "ratio_A = 4\n",
        "ratio_B = 3\n",
        "ratio_C = 2\n",
        "ratio_D = 1\n",
        "total_new_refrigerant = 80\n",
        "\n",
        "model += ratio_B * new_A == ratio_A * new_B, \"Ratio_A_B\"  # Cross-multiply to avoid division\n",
        "model += ratio_C * new_A == ratio_A * new_C, \"Ratio_A_C\"\n",
        "model += ratio_D * new_A == ratio_A * new_D, \"Ratio_A_D\"\n",
        "\n",
        "\n",
        "# Weight limits based on system needs\n",
        "model += new_A + new_B + new_C + new_D == total_new_refrigerant, \"Total_New_Refrigerant\"\n",
        "\n",
        "# Solve the model\n",
        "model.solve()\n",
        "\n",
        "# Print the results\n",
        "print(f\"Status: {LpStatus[model.status]}\")\n",
        "print(f\"Amount of A to add: {pulp.value(add_A)} kg\")\n",
        "print(f\"Amount of B to add: {pulp.value(add_B)} kg\")\n",
        "print(f\"Amount of C to add: {pulp.value(add_C)} kg\")\n",
        "print(f\"Amount of D to add: {pulp.value(add_D)} kg\")\n",
        "print(f\"Amount of A to extract: {pulp.value(new_A)} kg\")\n",
        "print(f\"Amount of B to extract: {pulp.value(new_B)} kg\")\n",
        "print(f\"Amount of C to extract: {pulp.value(new_C)} kg\")\n",
        "print(f\"Amount of D to extract: {pulp.value(new_D)} kg\")\n",
        "print(f\"Total Cost: {pulp.value(model.objective)}\")\n",
        "\n"
      ],
      "metadata": {
        "colab": {
          "base_uri": "https://localhost:8080/"
        },
        "id": "gjYJpO9gQbqH",
        "outputId": "f9d11bdc-cf36-4bed-88a2-d1772c0d8b0f"
      },
      "execution_count": 10,
      "outputs": [
        {
          "output_type": "stream",
          "name": "stdout",
          "text": [
            "ERROR: unknown command \"as\" - maybe you meant \"hash\"\n",
            "Status: Optimal\n",
            "Amount of A to add: 0.0 kg\n",
            "Amount of B to add: 0.0 kg\n",
            "Amount of C to add: 0.0 kg\n",
            "Amount of D to add: 0.0 kg\n",
            "Amount of A to extract: 32.0 kg\n",
            "Amount of B to extract: 24.0 kg\n",
            "Amount of C to extract: 16.0 kg\n",
            "Amount of D to extract: 8.0 kg\n",
            "Total Cost: 424.0\n"
          ]
        }
      ]
    }
  ]
}